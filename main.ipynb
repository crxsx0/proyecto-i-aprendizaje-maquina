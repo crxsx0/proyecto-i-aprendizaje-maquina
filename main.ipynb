{
 "cells": [
  {
   "cell_type": "markdown",
   "id": "3046a82c",
   "metadata": {},
   "source": [
    "# Proyecto I - Aprendizaje Máquina\n",
    "\n",
    "## Integrantes:\n",
    "- **Cristobal Hachim**\n",
    "- **Ignacio Duarte**\n",
    "- **Cristopher Arredondo**\n",
    "- **Alvaro Brizuela**\n",
    "- **Felipe Moscoso**"
   ]
  },
  {
   "cell_type": "markdown",
   "id": "0424af75",
   "metadata": {},
   "source": [
    "## Introducción\n",
    "Los Sistemas de Grupos Relacionados por el Diagnóstico (GRD) constituyen un método estandarizado para agrupar estancias hospitalarias en categorías clínicas homogéneas, cuyo objetivo es reflejar la complejidad del paciente y el consumo de recursos asociados. Tradicionalmente, la asignación de un GRD se realiza al alta mediante reglas fijas basadas en el diagnóstico principal, las comorbilidades, los procedimientos realizados, la edad y el sexo, lo que limita su capacidad de adaptación a nuevas prácticas clínicas o combinaciones atípicas de diagnósticos. Predecir de forma temprana el GRD —incluso al ingreso o durante las primeras horas de hospitalización— permitiría a los hospitales anticipar necesidades de camas, personal y suministros, optimizar la planificación presupuestaria y detectar posibles errores de codificación antes de la facturación. Sin embargo, esta tarea plantea un desafío de clasificación multiclase de alta dimensionalidad, dado el enorme número de códigos ICD‑9/ICD‑10 y procedimientos, así como las complejas interacciones entre comorbilidades y tratamientos.\n",
    "\n",
    "Por ello, en este proyecto exploraremos desde técnicas clásicas (regresión logística, árboles de decisión) hasta métodos avanzados de aprendizaje automático (Random Forest, XGBoost, redes neuronales recurrentes y basadas en atención), con el fin de diseñar un sistema preciso, escalable y lo suficientemente interpretable para apoyar la toma de decisiones clínicas y administrativas."
   ]
  },
  {
   "cell_type": "markdown",
   "id": "15ed6988",
   "metadata": {},
   "source": [
    "# Metodología\n",
    "\n",
    "## 1. Descripción del Dataset\n",
    "El estudio se basa en el conjunto de datos clínicos del Hospital El Pino, que incluye información detallada sobre:\n",
    "- Diagnósticos (`Diag01–Diag35`)\n",
    "- Procedimientos (`Proced01–Proced30`)\n",
    "- Variables demográficas (`Edad`, `Sexo`)\n",
    "- Clasificaciones clínicas como `GRD`, `Severidad` y `Mortalidad`\n",
    "\n",
    "Además, se incorporan tablas maestras que proporcionan descripciones adicionales para las variables categóricas, enriqueciendo así la comprensión y análisis de los datos.\n",
    "\n",
    "---\n",
    "\n",
    "## 2. Método para Desarrollar el Proyecto\n",
    "Para el desarrollo de este proyecto se adoptó la metodología **CRISP-DM** (Cross Industry Standard Process for Data Mining), ampliamente utilizada en proyectos de minería de datos por su enfoque estructurado y adaptable a múltiples contextos. Esta metodología comprende las siguientes fases:\n",
    "\n",
    "1. **Comprensión del negocio**:  \n",
    "    Definir los objetivos del proyecto y los requerimientos desde una perspectiva empresarial.\n",
    "\n",
    "2. **Comprensión de los datos**:  \n",
    "    Recopilar y familiarizarse con los datos disponibles, identificando problemas de calidad y comprendiendo su estructura.\n",
    "\n",
    "3. **Preparación de los datos**:  \n",
    "    Seleccionar, limpiar y transformar los datos para su análisis.\n",
    "\n",
    "4. **Modelado**:  \n",
    "    Seleccionar y aplicar técnicas de modelado adecuadas.\n",
    "\n",
    "5. **Evaluación**:  \n",
    "    Evaluar los modelos generados para asegurar que cumplen con los objetivos del negocio.\n",
    "\n",
    "6. **Despliegue**:  \n",
    "    Implementar el modelo en el entorno de producción para su uso práctico.\n",
    "\n",
    "---\n",
    "\n",
    "## 3. Proceso para Desarrollar el Modelo\n",
    "El desarrollo del modelo seguirá los siguientes pasos:\n",
    "\n",
    "### Preprocesamiento de Datos:\n",
    "- Manejo de valores faltantes y outliers.\n",
    "- Codificación de variables categóricas mediante `CountVectorizer`, para vectorizar la información de las columnas, haciéndolas compatibles con los modelos a utilizar.\n",
    "- Normalización o estandarización de variables numéricas según sea necesario.\n",
    "\n",
    "### Selección de Características:\n",
    "- Utilización de técnicas como análisis de correlación y métodos de importancia de variables para seleccionar las características más relevantes.\n",
    "\n",
    "### División del Conjunto de Datos:\n",
    "- Separación del conjunto de datos en conjuntos de entrenamiento y prueba, típicamente en una proporción de 80/20.\n",
    "\n",
    "### Entrenamiento de Modelos:\n",
    "- Aplicación de los modelos seleccionados (`Regresión Logística`, `XGBoost`, `ANN`) utilizando el conjunto de entrenamiento.\n",
    "\n",
    "### Evaluación de Modelos:\n",
    "Los modelos serán evaluados según:\n",
    "- **Accuracy**\n",
    "- **Precision / Recall**\n",
    "- **F1-Score**\n",
    "- **AUC-ROC multiclase (one-vs-rest)**\n",
    "\n",
    "### Selección del Mejor Modelo:\n",
    "- Comparación de los modelos basándose en las métricas de evaluación para seleccionar el más adecuado para el problema en cuestión.\n",
    "\n",
    "---\n",
    "\n",
    "## 4. Técnicas de Aprendizaje Automático y Justificación\n",
    "\n",
    "### a. Regresión Logística\n",
    "La regresión logística es un modelo supervisado que permite estimar la probabilidad de pertenencia a una clase categórica a partir de un conjunto de variables predictoras. Aunque se diseñó originalmente para clasificación binaria, es fácilmente extendible a problemas multiclase, como es el caso de la clasificación de GRDs.\n",
    "\n",
    "**Ventajas:**\n",
    "- Ofrece interpretabilidad clínica: Permite entender cómo cada diagnóstico o procedimiento afecta la probabilidad de que un paciente pertenezca a un GRD determinado.\n",
    "- Es robusta frente a datos estructurados y puede manejar gran cantidad de variables categóricas tokenizadas.\n",
    "- Sirve como modelo base o punto de partida para comparar con algoritmos más complejos.\n",
    "\n",
    "**Ejemplo:**  \n",
    "Puede identificar qué tan probable es que un paciente con una combinación de diagnósticos obstétricos y ciertos procedimientos quirúrgicos sea clasificado en el GRD “146101”, asociado a partos por cesárea.\n",
    "\n",
    "---\n",
    "\n",
    "### b. XGBoost (Extreme Gradient Boosting)\n",
    "XGBoost es una implementación eficiente y regularizada del algoritmo gradient boosting, especialmente diseñado para alto rendimiento en tareas de clasificación sobre conjuntos de datos estructurados.\n",
    "\n",
    "**Ventajas:**\n",
    "- Maneja interacciones no lineales entre múltiples características clínicas (diagnósticos, procedimientos, edad, etc.).\n",
    "- Es resistente al sobreajuste, gracias a técnicas de regularización y poda de árboles.\n",
    "- Funciona bien con grandes volúmenes de datos clínicos donde hay muchos valores categóricos convertidos en vectores.\n",
    "- Puede detectar relaciones complejas entre combinaciones de diagnósticos y GRDs que modelos lineales no capturan.\n",
    "\n",
    "**Ejemplo:**  \n",
    "En el contexto hospitalario, XGBoost puede aprender patrones sutiles en la combinación de variables clínicas que determinan la clasificación GRD, incluso en presencia de clases desbalanceadas o datos con ruido.\n",
    "\n",
    "---\n",
    "\n",
    "### c. Redes Neuronales Artificiales (ANN)\n",
    "Las Redes Neuronales Artificiales están compuestas por capas de unidades llamadas neuronas, organizadas en una estructura de red que permite modelar relaciones altamente no lineales y jerárquicas en los datos.\n",
    "\n",
    "**Ventajas:**\n",
    "- Son potentes clasificadores multiclase, capaces de generalizar patrones incluso cuando no hay una relación lineal evidente entre las variables y el GRD.\n",
    "- Detectan combinaciones complejas entre diagnósticos y procedimientos que otros modelos podrían pasar por alto.\n",
    "- Con arquitecturas como el Perceptrón Multicapa (MLP), se puede ajustar la red para obtener equilibrio entre interpretabilidad, precisión y eficiencia.\n",
    "\n",
    "**Ejemplo:**  \n",
    "En este proyecto, las redes neuronales pueden predecir GRDs complejos con alta precisión, optimizando la asignación de recursos hospitalarios como pabellones y procedimientos según el perfil clínico del paciente.\n",
    "\n",
    "---\n",
    "\n",
    "## 5. Métricas para Evaluar la Calidad de los Modelos\n",
    "Para evaluar y comparar el rendimiento de los modelos, se utilizarán las siguientes métricas:\n",
    "\n",
    "- **Precisión (Accuracy):** Proporción de predicciones correctas sobre el total de casos evaluados.\n",
    "- **Precisión (Precision):** Proporción de verdaderos positivos sobre el total de predicciones positivas realizadas por el modelo.\n",
    "- **Sensibilidad (Recall):** Proporción de verdaderos positivos sobre el total de casos positivos reales.\n",
    "- **F1-Score:** Media armónica entre la precisión y la sensibilidad, útil cuando se busca un balance entre ambas métricas.\n",
    "- **Área bajo la curva ROC (AUC-ROC):** Mide la capacidad del modelo para distinguir entre clases.\n",
    "\n",
    "**Justificación de la Elección de Métricas:**  \n",
    "Estas métricas proporcionan una visión integral del rendimiento de los modelos, especialmente en contextos donde las clases pueden estar desbalanceadas. Por ejemplo, en aplicaciones clínicas, es crucial minimizar los falsos negativos, lo que hace que métricas como la sensibilidad y el AUC-ROC sean particularmente relevantes.\n",
    "\n"
   ]
  },
  {
   "cell_type": "markdown",
   "id": "a480b8a1",
   "metadata": {},
   "source": [
    "## Limpieza del CSV"
   ]
  },
  {
   "cell_type": "code",
   "execution_count": 3,
   "id": "5cc75931",
   "metadata": {},
   "outputs": [],
   "source": [
    "import pandas as pd"
   ]
  },
  {
   "cell_type": "code",
   "execution_count": 6,
   "id": "3bb69e5e",
   "metadata": {},
   "outputs": [
    {
     "name": "stdout",
     "output_type": "stream",
     "text": [
      "Valor inválido para edad: Diag 23 Secundario (cod+des)\n"
     ]
    }
   ],
   "source": [
    "corpus=[]\n",
    "target=[]\n",
    "edad=[]\n",
    "sexo=[]\n",
    "severidad=[]\n",
    "archivo=open(\"data/dataset_elpino.csv\",encoding=\"utf-8\")\n",
    "header=archivo.readline().strip().split(\";\")\n",
    "features=[]\n",
    "for col in header:\n",
    "    col=col.split(\"-\")[0].strip()\n",
    "    if col.startswith(\"Diag\") or col.startswith(\"Proc\"):\n",
    "        col=col.split(\" \")\n",
    "        col=col[0]+col[1]\n",
    "    features.append(col)\n",
    "for linea in archivo:\n",
    "    row=[]\n",
    "    linea=linea.strip().split(\";\")\n",
    "    for i in range(len(linea)):\n",
    "        col=linea[i].split(\"-\")[0].strip()\n",
    "        if i==67:\n",
    "            grd=col\n",
    "            target.append(grd)\n",
    "        elif i==66:\n",
    "            sexo.append(1 if col==\"Mujer\" else 0)\n",
    "        elif i == 65:\n",
    "            try:\n",
    "                edad.append(int(col))\n",
    "            except ValueError:\n",
    "                print(f\"Valor inválido para edad: {col}\")\n",
    "                edad.append(None) # Append None or handle as needed \n",
    "        else:\n",
    "            row.append(col)\n",
    "    corpus.append(row)"
   ]
  },
  {
   "cell_type": "code",
   "execution_count": null,
   "id": "baae6dc6",
   "metadata": {},
   "outputs": [],
   "source": [
    "df=pd.DataFrame(corpus,columns=features[:-3])\n",
    "df[\"GRD\"]=target"
   ]
  },
  {
   "cell_type": "code",
   "execution_count": null,
   "id": "bdd730cd",
   "metadata": {},
   "outputs": [],
   "source": [
    "df.to_csv(\"output/dataset-el-pino-clean.csv\",index=False,encoding=\"utf-8\")"
   ]
  },
  {
   "cell_type": "markdown",
   "id": "091c92e0",
   "metadata": {},
   "source": [
    "## Analisis exploratorio de datos(EDA)"
   ]
  },
  {
   "cell_type": "markdown",
   "id": "5f997d42",
   "metadata": {},
   "source": [
    "### Limpieza de Datos"
   ]
  },
  {
   "cell_type": "markdown",
   "id": "3f36bd10",
   "metadata": {},
   "source": [
    "Cargamos el dataset una vez limpio el CSV"
   ]
  },
  {
   "cell_type": "code",
   "execution_count": 9,
   "id": "45406326",
   "metadata": {},
   "outputs": [],
   "source": [
    "df_clean = pd.read_csv(\"output/dataset-el-pino-clean.csv\")"
   ]
  },
  {
   "cell_type": "markdown",
   "id": "47973d70",
   "metadata": {},
   "source": [
    "Obtendremos la información de los datos, para ver si hay algún dato nulo o algún dato que no esté en el formato correcto."
   ]
  },
  {
   "cell_type": "code",
   "execution_count": 10,
   "id": "52049756",
   "metadata": {},
   "outputs": [
    {
     "name": "stdout",
     "output_type": "stream",
     "text": [
      "<class 'pandas.core.frame.DataFrame'>\n",
      "RangeIndex: 14561 entries, 0 to 14560\n",
      "Data columns (total 66 columns):\n",
      " #   Column    Non-Null Count  Dtype  \n",
      "---  ------    --------------  -----  \n",
      " 0   Diag01    14561 non-null  object \n",
      " 1   Diag02    13352 non-null  object \n",
      " 2   Diag03    11874 non-null  object \n",
      " 3   Diag04    10434 non-null  object \n",
      " 4   Diag05    9190 non-null   object \n",
      " 5   Diag06    8167 non-null   object \n",
      " 6   Diag07    7153 non-null   object \n",
      " 7   Diag08    5977 non-null   object \n",
      " 8   Diag09    4842 non-null   object \n",
      " 9   Diag10    3865 non-null   object \n",
      " 10  Diag11    2987 non-null   object \n",
      " 11  Diag12    2323 non-null   object \n",
      " 12  Diag13    1800 non-null   object \n",
      " 13  Diag14    1431 non-null   object \n",
      " 14  Diag15    1138 non-null   object \n",
      " 15  Diag16    923 non-null    object \n",
      " 16  Diag17    759 non-null    object \n",
      " 17  Diag18    623 non-null    object \n",
      " 18  Diag19    515 non-null    object \n",
      " 19  Diag20    429 non-null    object \n",
      " 20  Diag21    353 non-null    object \n",
      " 21  Diag22    304 non-null    object \n",
      " 22  Diag23    253 non-null    object \n",
      " 23  Diag24    215 non-null    object \n",
      " 24  Diag25    194 non-null    object \n",
      " 25  Diag26    154 non-null    object \n",
      " 26  Diag27    130 non-null    object \n",
      " 27  Diag28    110 non-null    object \n",
      " 28  Diag29    93 non-null     object \n",
      " 29  Diag30    76 non-null     object \n",
      " 30  Diag31    67 non-null     object \n",
      " 31  Diag32    57 non-null     object \n",
      " 32  Diag33    43 non-null     object \n",
      " 33  Diag34    40 non-null     object \n",
      " 34  Diag35    28 non-null     object \n",
      " 35  Proced01  14561 non-null  float64\n",
      " 36  Proced02  14427 non-null  float64\n",
      " 37  Proced03  14219 non-null  float64\n",
      " 38  Proced04  13956 non-null  float64\n",
      " 39  Proced05  13599 non-null  float64\n",
      " 40  Proced06  13081 non-null  float64\n",
      " 41  Proced07  12426 non-null  float64\n",
      " 42  Proced08  11549 non-null  float64\n",
      " 43  Proced09  10624 non-null  float64\n",
      " 44  Proced10  9579 non-null   float64\n",
      " 45  Proced11  8470 non-null   float64\n",
      " 46  Proced12  7220 non-null   float64\n",
      " 47  Proced13  6115 non-null   float64\n",
      " 48  Proced14  5202 non-null   float64\n",
      " 49  Proced15  4450 non-null   float64\n",
      " 50  Proced16  3894 non-null   float64\n",
      " 51  Proced17  3485 non-null   float64\n",
      " 52  Proced18  3170 non-null   float64\n",
      " 53  Proced19  2894 non-null   float64\n",
      " 54  Proced20  2648 non-null   float64\n",
      " 55  Proced21  2441 non-null   float64\n",
      " 56  Proced22  2240 non-null   float64\n",
      " 57  Proced23  2065 non-null   float64\n",
      " 58  Proced24  1895 non-null   float64\n",
      " 59  Proced25  1710 non-null   float64\n",
      " 60  Proced26  1572 non-null   float64\n",
      " 61  Proced27  1423 non-null   float64\n",
      " 62  Proced28  1300 non-null   float64\n",
      " 63  Proced29  1182 non-null   float64\n",
      " 64  Proced30  1063 non-null   float64\n",
      " 65  GRD       14561 non-null  int64  \n",
      "dtypes: float64(30), int64(1), object(35)\n",
      "memory usage: 7.3+ MB\n"
     ]
    }
   ],
   "source": [
    "df_clean.info()"
   ]
  },
  {
   "cell_type": "code",
   "execution_count": 11,
   "id": "2df3a4f3",
   "metadata": {},
   "outputs": [
    {
     "data": {
      "text/plain": [
       "Diag01          0\n",
       "Diag02       1209\n",
       "Diag03       2687\n",
       "Diag04       4127\n",
       "Diag05       5371\n",
       "            ...  \n",
       "Proced27    13138\n",
       "Proced28    13261\n",
       "Proced29    13379\n",
       "Proced30    13498\n",
       "GRD             0\n",
       "Length: 66, dtype: int64"
      ]
     },
     "execution_count": 11,
     "metadata": {},
     "output_type": "execute_result"
    }
   ],
   "source": [
    "df_clean.isna().sum()"
   ]
  },
  {
   "cell_type": "markdown",
   "id": "3e9accd8",
   "metadata": {},
   "source": [
    "Como podemos observar el dataset contiene 14561 filas y 67 columnas, además de que existen muchos datos nulos, por lo que debemos limpiarlo."
   ]
  },
  {
   "cell_type": "markdown",
   "id": "0b5f8e5b",
   "metadata": {},
   "source": [
    "### Distribución de las clases"
   ]
  },
  {
   "cell_type": "code",
   "execution_count": 12,
   "id": "cbfbee84",
   "metadata": {},
   "outputs": [
    {
     "data": {
      "text/plain": [
       "GRD\n",
       "146101    813\n",
       "146121    639\n",
       "146131    538\n",
       "158171    389\n",
       "134161    325\n",
       "         ... \n",
       "214103      1\n",
       "54223       1\n",
       "114142      1\n",
       "131122      1\n",
       "134153      1\n",
       "Name: count, Length: 526, dtype: int64"
      ]
     },
     "execution_count": 12,
     "metadata": {},
     "output_type": "execute_result"
    }
   ],
   "source": [
    "df_clean['GRD'].value_counts()"
   ]
  },
  {
   "cell_type": "markdown",
   "id": "3922638e",
   "metadata": {},
   "source": [
    "Tenemos 526 clases, lo que hace que el problema sea un problema de clasificación multiclase"
   ]
  },
  {
   "cell_type": "code",
   "execution_count": 13,
   "id": "4d398961",
   "metadata": {},
   "outputs": [],
   "source": [
    "import seaborn as sns\n",
    "import matplotlib.pyplot as plt"
   ]
  },
  {
   "cell_type": "code",
   "execution_count": 14,
   "id": "66f1adec",
   "metadata": {},
   "outputs": [
    {
     "data": {
      "image/png": "[encoded data removed]",
      "text/plain": [
       "<Figure size 1200x600 with 1 Axes>"
      ]
     },
     "metadata": {},
     "output_type": "display_data"
    }
   ],
   "source": [
    "top_n = 20\n",
    "top_grds = df_clean['GRD'].value_counts().nlargest(top_n)\n",
    "\n",
    "plt.figure(figsize=(12, 6))\n",
    "sns.barplot(x=top_grds.index, y=top_grds.values, hue=top_grds.index, dodge=False)\n",
    "plt.title(f\"Top {top_n} Clases GRD Más Frecuentes\")\n",
    "plt.xlabel(\"GRD\")\n",
    "plt.ylabel(\"Frecuencia\")\n",
    "plt.xticks(rotation=45)\n",
    "plt.tight_layout()\n",
    "plt.show()"
   ]
  },
  {
   "cell_type": "markdown",
   "id": "a1ccce79",
   "metadata": {},
   "source": [
    "A continuación, se muestra la distribución de las 20 clases más frecuentes, donde podemos observar que las clases 146101, 146121, 146131 son las más frecuentes, esto nos confirma que existe un fuerte desbalanceo en los datos, por lo que debemos tener cuidado al momento de entrenar el modelo, ya que puede que el modelo se sobreentrene en las clases más frecuentes y no generalice bien a las clases menos frecuentes."
   ]
  },
  {
   "cell_type": "markdown",
   "id": "17cc3283",
   "metadata": {},
   "source": [
    "Vamos a extraer las columnas de diagnóstico y procedimiento, para realizar el analisis de las columnas."
   ]
  },
  {
   "cell_type": "code",
   "execution_count": 15,
   "id": "9d3bfcc8",
   "metadata": {},
   "outputs": [
    {
     "name": "stdout",
     "output_type": "stream",
     "text": [
      "Diagnósticos: ['Diag01', 'Diag02', 'Diag03', 'Diag04', 'Diag05', 'Diag06', 'Diag07', 'Diag08', 'Diag09', 'Diag10', 'Diag11', 'Diag12', 'Diag13', 'Diag14', 'Diag15', 'Diag16', 'Diag17', 'Diag18', 'Diag19', 'Diag20', 'Diag21', 'Diag22', 'Diag23', 'Diag24', 'Diag25', 'Diag26', 'Diag27', 'Diag28', 'Diag29', 'Diag30', 'Diag31', 'Diag32', 'Diag33', 'Diag34', 'Diag35']\n",
      "Procedimientos: ['Proced01', 'Proced02', 'Proced03', 'Proced04', 'Proced05', 'Proced06', 'Proced07', 'Proced08', 'Proced09', 'Proced10', 'Proced11', 'Proced12', 'Proced13', 'Proced14', 'Proced15', 'Proced16', 'Proced17', 'Proced18', 'Proced19', 'Proced20', 'Proced21', 'Proced22', 'Proced23', 'Proced24', 'Proced25', 'Proced26', 'Proced27', 'Proced28', 'Proced29', 'Proced30']\n"
     ]
    }
   ],
   "source": [
    "diagnosticos_cols = [col for col in df_clean.columns if \"Diag\" in col]\n",
    "procedimientos_cols = [col for col in df_clean.columns if \"Proced\" in col]\n",
    "print(\"Diagnósticos:\", diagnosticos_cols)\n",
    "print(\"Procedimientos:\", procedimientos_cols)\n"
   ]
  },
  {
   "cell_type": "code",
   "execution_count": 16,
   "id": "c6f342a5",
   "metadata": {},
   "outputs": [
    {
     "data": {
      "text/plain": [
       "Diag01          0\n",
       "Diag02       1209\n",
       "Diag03       2687\n",
       "Diag04       4127\n",
       "Diag05       5371\n",
       "            ...  \n",
       "Proced26    12989\n",
       "Proced27    13138\n",
       "Proced28    13261\n",
       "Proced29    13379\n",
       "Proced30    13498\n",
       "Length: 65, dtype: int64"
      ]
     },
     "execution_count": 16,
     "metadata": {},
     "output_type": "execute_result"
    }
   ],
   "source": [
    "df_nulls = df_clean[diagnosticos_cols + procedimientos_cols].isna().sum()\n",
    "df_clean[diagnosticos_cols + procedimientos_cols].isna().sum()"
   ]
  },
  {
   "cell_type": "markdown",
   "id": "74765602",
   "metadata": {},
   "source": [
    "Segun el analisis que hicimos sobre `df_nulls` concluimos que todas las columnas excepto `Diag01` y `Proc01` tienen datos nulos, los valores nulos aumentan progresivamente a medida que avanzamos en las columnas, por lo que decidimos rellenar los valores nulos con `SIN_CODIGO` para preservar esta ausencia de datos, ya que es importante para el modelo, ya que si no lo hacemos el modelo no podrá aprender de estos datos y no podrá generalizar bien a los datos de prueba."
   ]
  },
  {
   "cell_type": "markdown",
   "id": "16d2420e",
   "metadata": {},
   "source": [
    "Se concluye que los "
   ]
  },
  {
   "cell_type": "code",
   "execution_count": 17,
   "id": "2bcbc974",
   "metadata": {},
   "outputs": [
    {
     "data": {
      "image/png": "[encoded data removed]",
      "text/plain": [
       "<Figure size 1000x600 with 1 Axes>"
      ]
     },
     "metadata": {},
     "output_type": "display_data"
    }
   ],
   "source": [
    "from collections import Counter\n",
    "\n",
    "all_diags = df_clean[diagnosticos_cols].values.ravel()\n",
    "diag_counts = Counter(all_diags[~pd.isna(all_diags)])\n",
    "\n",
    "top_10_diags = diag_counts.most_common(10)\n",
    "labels, values = zip(*top_10_diags)\n",
    "\n",
    "plt.figure(figsize=(10, 6))\n",
    "sns.barplot(x=list(labels), y=list(values), hue=labels, dodge=False)\n",
    "plt.title(\"Top 10 Diagnósticos Más Frecuentes\")\n",
    "plt.xlabel(\"Diagnósticos\")\n",
    "plt.ylabel(\"Frecuencia\")\n",
    "plt.xticks(rotation=45)\n",
    "plt.tight_layout()\n",
    "plt.show()\n"
   ]
  },
  {
   "cell_type": "markdown",
   "id": "623b90a9",
   "metadata": {},
   "source": [
    "Como se observa, hay una alta concentracion en diagnosticos comunes ya que sumando los 10 mas frecuentes cubren aproximadamente 50% - 60% de los datos, por lo que es importante tener en cuenta esto al momento de entrenar el modelo, ya que puede que el modelo se sobreentrene en los diagnósticos más frecuentes y no generalice bien a los diagnósticos menos frecuentes."
   ]
  },
  {
   "cell_type": "code",
   "execution_count": 18,
   "id": "6316ec12",
   "metadata": {},
   "outputs": [
    {
     "data": {
      "image/png": "[encoded data removed]",
      "text/plain": [
       "<Figure size 1000x600 with 1 Axes>"
      ]
     },
     "metadata": {},
     "output_type": "display_data"
    }
   ],
   "source": [
    "all_procs = df_clean[procedimientos_cols].values.ravel()\n",
    "proc_counts = Counter(all_procs[~pd.isna(all_procs)])\n",
    "\n",
    "labels, values = zip(*proc_counts.most_common(10))\n",
    "\n",
    "plt.figure(figsize=(10, 6))\n",
    "sns.barplot(x=list(labels), y=list(values), hue=labels, dodge=False)\n",
    "plt.title(\"Top 10 Procedimientos Más Frecuentes\")\n",
    "plt.xlabel(\"Procedimientos\")\n",
    "plt.ylabel(\"Frecuencia\")\n",
    "plt.xticks(rotation=45)\n",
    "plt.tight_layout()\n",
    "plt.show()\n"
   ]
  },
  {
   "cell_type": "markdown",
   "id": "0922082a",
   "metadata": {},
   "source": [
    "Lo que podemos concluir de este grafico es que los procedimientos mas frecuentes son comunes a muchas condiciones clinicas, por lo que no es tan importante para encontrar patrones en los datos, ya que no son tan especificos como los diagnosticos, por lo que podemos dejarlos como estan y no hacer un analisis mas profundo de ellos."
   ]
  },
  {
   "cell_type": "code",
   "execution_count": 19,
   "id": "dba86c58",
   "metadata": {},
   "outputs": [
    {
     "data": {
      "text/plain": [
       "np.int64(295)"
      ]
     },
     "execution_count": 19,
     "metadata": {},
     "output_type": "execute_result"
    }
   ],
   "source": [
    "df_clean.duplicated().sum()"
   ]
  },
  {
   "cell_type": "markdown",
   "id": "a288ac9e",
   "metadata": {},
   "source": [
    "Detectamos 295 filas duplicadas exactas en el dataset de 14,561 pacientes. Por lo que eliminamos las filas duplicadas en la proxima etapa que es la limpieza de datos."
   ]
  },
  {
   "cell_type": "markdown",
   "id": "80cb8e7d",
   "metadata": {},
   "source": [
    "### Limpieza de datos"
   ]
  },
  {
   "cell_type": "markdown",
   "id": "00c94cd0",
   "metadata": {},
   "source": [
    "Aca rellenaremos los numeros nulos con `SIN_CODIGO`"
   ]
  },
  {
   "cell_type": "code",
   "execution_count": 20,
   "id": "3941b899",
   "metadata": {},
   "outputs": [],
   "source": [
    "df_clean[diagnosticos_cols + procedimientos_cols] = df_clean[diagnosticos_cols + procedimientos_cols].fillna(\"SIN_CODIGO\")"
   ]
  },
  {
   "cell_type": "markdown",
   "id": "e3905b12",
   "metadata": {},
   "source": [
    "Tambien eliminamos las filas duplicadas, ya que no aportan nada al modelo y pueden afectar el rendimiento del mismo."
   ]
  },
  {
   "cell_type": "code",
   "execution_count": 21,
   "id": "9f36bd57",
   "metadata": {},
   "outputs": [],
   "source": [
    "df_clean = df_clean.drop_duplicates()"
   ]
  },
  {
   "cell_type": "code",
   "execution_count": 22,
   "id": "f5368675",
   "metadata": {},
   "outputs": [
    {
     "name": "stdout",
     "output_type": "stream",
     "text": [
      "<class 'pandas.core.frame.DataFrame'>\n",
      "Index: 14266 entries, 0 to 14560\n",
      "Data columns (total 2 columns):\n",
      " #   Column     Non-Null Count  Dtype \n",
      "---  ------     --------------  ----- \n",
      " 0   ALL_DIAGS  14266 non-null  object\n",
      " 1   ALL_PROCS  14266 non-null  object\n",
      "dtypes: object(2)\n",
      "memory usage: 334.4+ KB\n"
     ]
    },
    {
     "data": {
      "text/html": [
       "<div>\n",
       "<style scoped>\n",
       "    .dataframe tbody tr th:only-of-type {\n",
       "        vertical-align: middle;\n",
       "    }\n",
       "\n",
       "    .dataframe tbody tr th {\n",
       "        vertical-align: top;\n",
       "    }\n",
       "\n",
       "    .dataframe thead th {\n",
       "        text-align: right;\n",
       "    }\n",
       "</style>\n",
       "<table border=\"1\" class=\"dataframe\">\n",
       "  <thead>\n",
       "    <tr style=\"text-align: right;\">\n",
       "      <th></th>\n",
       "      <th>ALL_DIAGS</th>\n",
       "      <th>ALL_PROCS</th>\n",
       "    </tr>\n",
       "  </thead>\n",
       "  <tbody>\n",
       "    <tr>\n",
       "      <th>0</th>\n",
       "      <td>A41.8 B37.6 I39.8 N10 B96.1 L89.9 L08.9 B96.2 ...</td>\n",
       "      <td>86.28 34.91 88.38 87.41 88.75 88.01 88.43 88.4...</td>\n",
       "    </tr>\n",
       "    <tr>\n",
       "      <th>1</th>\n",
       "      <td>U07.1 J12.8 R06.0 R05 R50.9 Z29.0 Z01.7 J96.00...</td>\n",
       "      <td>31.1 86.28 96.72 93.9 89.7 88.01 87.41 34.04 8...</td>\n",
       "    </tr>\n",
       "    <tr>\n",
       "      <th>2</th>\n",
       "      <td>K56.5 R57.2 R57.1 J80 Y95 J15.0 U82.2 B95.6 B9...</td>\n",
       "      <td>86.22 54.59 96.72 31.1 45.13 87.41 87.03 88.01...</td>\n",
       "    </tr>\n",
       "    <tr>\n",
       "      <th>3</th>\n",
       "      <td>K76.8 K66.1 N18.5 D64.9 E87.5 E87.2 J81 N17.8 ...</td>\n",
       "      <td>54.19 39.98 86.28 54.62 96.72 96.04 87.41 88.0...</td>\n",
       "    </tr>\n",
       "    <tr>\n",
       "      <th>4</th>\n",
       "      <td>T81.0 Y83.2 S31.1 S36.80 W31.62 J96.09 J15.0 U...</td>\n",
       "      <td>54.11 45.9 46.73 46.2 86.28 54.19 89.7 96.04 9...</td>\n",
       "    </tr>\n",
       "  </tbody>\n",
       "</table>\n",
       "</div>"
      ],
      "text/plain": [
       "                                           ALL_DIAGS  \\\n",
       "0  A41.8 B37.6 I39.8 N10 B96.1 L89.9 L08.9 B96.2 ...   \n",
       "1  U07.1 J12.8 R06.0 R05 R50.9 Z29.0 Z01.7 J96.00...   \n",
       "2  K56.5 R57.2 R57.1 J80 Y95 J15.0 U82.2 B95.6 B9...   \n",
       "3  K76.8 K66.1 N18.5 D64.9 E87.5 E87.2 J81 N17.8 ...   \n",
       "4  T81.0 Y83.2 S31.1 S36.80 W31.62 J96.09 J15.0 U...   \n",
       "\n",
       "                                           ALL_PROCS  \n",
       "0  86.28 34.91 88.38 87.41 88.75 88.01 88.43 88.4...  \n",
       "1  31.1 86.28 96.72 93.9 89.7 88.01 87.41 34.04 8...  \n",
       "2  86.22 54.59 96.72 31.1 45.13 87.41 87.03 88.01...  \n",
       "3  54.19 39.98 86.28 54.62 96.72 96.04 87.41 88.0...  \n",
       "4  54.11 45.9 46.73 46.2 86.28 54.19 89.7 96.04 9...  "
      ]
     },
     "execution_count": 22,
     "metadata": {},
     "output_type": "execute_result"
    }
   ],
   "source": [
    "df_cleaned = pd.DataFrame()\n",
    "\n",
    "df_cleaned['ALL_DIAGS'] = df_clean[diagnosticos_cols].apply(lambda row: ' '.join(row.astype(str)), axis=1)\n",
    "df_cleaned['ALL_PROCS'] = df_clean[procedimientos_cols].apply(lambda row: ' '.join(row.astype(str)), axis=1)\n",
    "\n",
    "\n",
    "df_cleaned.info()\n",
    "df_cleaned.head()"
   ]
  },
  {
   "cell_type": "markdown",
   "id": "01b0383f",
   "metadata": {},
   "source": [
    "En este caso agrupamos los diagnósticos y procedimientos en una sola columna, para poder trabajar con ellos de una manera más sencilla, ya que al ser un problema de clasificación multiclase, es más fácil trabajar con una sola columna que con varias columnas. Ademas de que esta manera de trabajar es compatible con los modelos de aprendizaje automático que vamos a utilizar, ya que algunos de ellos no soportan trabajar con varias columnas de salida."
   ]
  },
  {
   "cell_type": "code",
   "execution_count": 23,
   "id": "a3dae8db",
   "metadata": {},
   "outputs": [],
   "source": [
    "from sklearn.feature_extraction.text import CountVectorizer\n",
    "\n",
    "vectorizer_diag = CountVectorizer()\n",
    "X_diags = vectorizer_diag.fit_transform(df_cleaned['ALL_DIAGS'])\n",
    "\n",
    "vectorizer_proc = CountVectorizer()\n",
    "X_procs = vectorizer_proc.fit_transform(df_cleaned['ALL_PROCS'])"
   ]
  },
  {
   "cell_type": "markdown",
   "id": "6d88847b",
   "metadata": {},
   "source": [
    "Utilizamos `CountVectorizer` para transformar los datos de texto en vectores de números, para poder trabajar con ellos de una manera más sencilla y poder entrenar los modelos de aprendizaje automático."
   ]
  },
  {
   "cell_type": "markdown",
   "id": "0ff8ddde",
   "metadata": {},
   "source": [
    "## Definicion de variable objetivo y variables de entrada"
   ]
  },
  {
   "cell_type": "code",
   "execution_count": 24,
   "id": "9ceb41e4",
   "metadata": {},
   "outputs": [],
   "source": [
    "from scipy.sparse import hstack\n",
    "\n",
    "X_total = hstack([X_diags, X_procs])\n",
    "y = df_clean['GRD']\n"
   ]
  },
  {
   "cell_type": "markdown",
   "id": "fdc126e5",
   "metadata": {},
   "source": [
    "---"
   ]
  },
  {
   "cell_type": "markdown",
   "id": "7a128c0d",
   "metadata": {},
   "source": [
    "## Modelos a implementar"
   ]
  },
  {
   "cell_type": "markdown",
   "id": "1837d935",
   "metadata": {},
   "source": [
    " como tenemo un problema de clasificacion de multiclase nos enfrentamos a que nuestra etiqueta GRD puede tomar decenas o cientos de valores distintos (cada código GRD agrupa un tipo de estancia distinta). por lo tanto no es solo una clasificacion binaria si es 0 o 1 Por tanto, no se trata de un problema binario (0/1), sino de asignar cada paciente a una de muchas categorías posibles.\n",
    "\n",
    " - Alta cardinalidad de clases (que el output sea muy grande)\n",
    " - implica desiquilibrio de clases alguna GRD sea mas comun y otra mas rara\n",
    " - overfitting en los modelos por las clases\n",
    " - Preparación del feature set, controlando sparsity y tokens “SIN_CODIGO”.\n",
    " - Elección de modelos: baseline (Regresión logística) y avanzado (XGBoost) con regularización."
   ]
  },
  {
   "cell_type": "code",
   "execution_count": 25,
   "id": "b2e4b894",
   "metadata": {},
   "outputs": [],
   "source": [
    "from sklearn.linear_model import LogisticRegression\n",
    "from sklearn.preprocessing import LabelEncoder\n",
    "from sklearn.model_selection import train_test_split\n",
    "from sklearn.metrics import accuracy_score, f1_score"
   ]
  },
  {
   "cell_type": "markdown",
   "id": "3dc56ee0",
   "metadata": {},
   "source": [
    "### Nuestro modelo Baseline sera Regresion logistica\n",
    " ya que regresion logistica maneja muy bien las predicciones por clases y es un clasificador multiclase nativo con nuestro modulo sklearn exportamos nuestro multi_class y solver para aplicar nuestra funcion softmax en lugard de una funcion sigmoide ya que la funcion sigmoide solo convierte un valor en una probabilidad de 0 y 1 usando la regresion mas la funcion softmax podemos convertir vector de valores reales para clasificar multiclases "
   ]
  },
  {
   "cell_type": "markdown",
   "id": "5ab50a01",
   "metadata": {},
   "source": [
    "Generamos un agrupamiento y separacion de clases para GRD raras asignandole una frecuecia 1 asi creamos una clase de otros y asi nuestros GRD raros se va a esa clase ya que scikit-learn exige que cada clase tenga al menos 2 muestras, porque de lo contrario no puede repartir “una sola muestra” en dos subconjuntos.\n",
    "\n",
    "Por eso agrupamos las clases raras (las que aparecen sólo 1 vez) en una nueva categoría \"OTROS\""
   ]
  },
  {
   "cell_type": "code",
   "execution_count": 26,
   "id": "d689e186",
   "metadata": {},
   "outputs": [],
   "source": [
    "grd_counts = df_clean['GRD'].value_counts()\n",
    "rare = set(grd_counts[grd_counts == 1].index)"
   ]
  },
  {
   "cell_type": "code",
   "execution_count": 27,
   "id": "4a2f6fae",
   "metadata": {},
   "outputs": [],
   "source": [
    "df_clean['GRD_mod'] = df_clean['GRD'].where(~df_clean['GRD'].isin(rare), 'OTROS')\n",
    "df_cleaned['GRD_mod'] = df_clean['GRD_mod']"
   ]
  },
  {
   "cell_type": "markdown",
   "id": "2024d8dc",
   "metadata": {},
   "source": [
    "\n",
    "### Construimos nuestro df_cleaned ya con las clases necesarias "
   ]
  },
  {
   "cell_type": "code",
   "execution_count": 28,
   "id": "67eb471c",
   "metadata": {},
   "outputs": [],
   "source": [
    "df_cleaned = pd.DataFrame({\n",
    "    'ALL_DIAGS': df_clean[diagnosticos_cols]\n",
    "                    .apply(lambda r: ' '.join(r.astype(str)), axis=1),\n",
    "    'ALL_PROCS': df_clean[procedimientos_cols]\n",
    "                    .apply(lambda r: ' '.join(r.astype(str)), axis=1),\n",
    "    'GRD_mod':   df_clean['GRD_mod']\n",
    "})\n"
   ]
  },
  {
   "cell_type": "code",
   "execution_count": 29,
   "id": "6c939214",
   "metadata": {},
   "outputs": [],
   "source": [
    "df_cleaned['GRD_mod'] = df_cleaned['GRD_mod'].astype(str)"
   ]
  },
  {
   "cell_type": "code",
   "execution_count": 30,
   "id": "9a29163e",
   "metadata": {},
   "outputs": [
    {
     "data": {
      "text/html": [
       "<div>\n",
       "<style scoped>\n",
       "    .dataframe tbody tr th:only-of-type {\n",
       "        vertical-align: middle;\n",
       "    }\n",
       "\n",
       "    .dataframe tbody tr th {\n",
       "        vertical-align: top;\n",
       "    }\n",
       "\n",
       "    .dataframe thead th {\n",
       "        text-align: right;\n",
       "    }\n",
       "</style>\n",
       "<table border=\"1\" class=\"dataframe\">\n",
       "  <thead>\n",
       "    <tr style=\"text-align: right;\">\n",
       "      <th></th>\n",
       "      <th>ALL_DIAGS</th>\n",
       "      <th>ALL_PROCS</th>\n",
       "      <th>GRD_mod</th>\n",
       "    </tr>\n",
       "  </thead>\n",
       "  <tbody>\n",
       "    <tr>\n",
       "      <th>0</th>\n",
       "      <td>A41.8 B37.6 I39.8 N10 B96.1 L89.9 L08.9 B96.2 ...</td>\n",
       "      <td>86.28 34.91 88.38 87.41 88.75 88.01 88.43 88.4...</td>\n",
       "      <td>184103</td>\n",
       "    </tr>\n",
       "    <tr>\n",
       "      <th>1</th>\n",
       "      <td>U07.1 J12.8 R06.0 R05 R50.9 Z29.0 Z01.7 J96.00...</td>\n",
       "      <td>31.1 86.28 96.72 93.9 89.7 88.01 87.41 34.04 8...</td>\n",
       "      <td>41013</td>\n",
       "    </tr>\n",
       "    <tr>\n",
       "      <th>2</th>\n",
       "      <td>K56.5 R57.2 R57.1 J80 Y95 J15.0 U82.2 B95.6 B9...</td>\n",
       "      <td>86.22 54.59 96.72 31.1 45.13 87.41 87.03 88.01...</td>\n",
       "      <td>41013</td>\n",
       "    </tr>\n",
       "  </tbody>\n",
       "</table>\n",
       "</div>"
      ],
      "text/plain": [
       "                                           ALL_DIAGS  \\\n",
       "0  A41.8 B37.6 I39.8 N10 B96.1 L89.9 L08.9 B96.2 ...   \n",
       "1  U07.1 J12.8 R06.0 R05 R50.9 Z29.0 Z01.7 J96.00...   \n",
       "2  K56.5 R57.2 R57.1 J80 Y95 J15.0 U82.2 B95.6 B9...   \n",
       "\n",
       "                                           ALL_PROCS GRD_mod  \n",
       "0  86.28 34.91 88.38 87.41 88.75 88.01 88.43 88.4...  184103  \n",
       "1  31.1 86.28 96.72 93.9 89.7 88.01 87.41 34.04 8...   41013  \n",
       "2  86.22 54.59 96.72 31.1 45.13 87.41 87.03 88.01...   41013  "
      ]
     },
     "execution_count": 30,
     "metadata": {},
     "output_type": "execute_result"
    }
   ],
   "source": [
    "df_cleaned.head(3)"
   ]
  },
  {
   "cell_type": "markdown",
   "id": "f2c391f2",
   "metadata": {},
   "source": [
    "- tokenizamos nuestra df_cleaned['GRD] a un array de enteros entre 0 y n_classes-1"
   ]
  },
  {
   "cell_type": "code",
   "execution_count": 31,
   "id": "d3998b44",
   "metadata": {},
   "outputs": [],
   "source": [
    "\n",
    "le = LabelEncoder()\n",
    "y_enc = le.fit_transform(df_cleaned['GRD_mod'])\n"
   ]
  },
  {
   "cell_type": "markdown",
   "id": "329d5824",
   "metadata": {},
   "source": [
    "\n",
    "Aplicamos nustro entrenamiento de nuestros datos con una division de datos 80/20 80% de entrenamiento y 20 de prueba"
   ]
  },
  {
   "cell_type": "code",
   "execution_count": 32,
   "id": "e8a01138",
   "metadata": {},
   "outputs": [],
   "source": [
    "X_tr, X_te, y_tr, y_te = train_test_split(\n",
    "  X_total, y_enc, stratify=y_enc, test_size=0.2, random_state=42\n",
    ")"
   ]
  },
  {
   "cell_type": "markdown",
   "id": "7018291f",
   "metadata": {},
   "source": [
    "# ahora aplicaremos el modelo Regresion logistica\n",
    "Ajustando sus params para\n",
    " - aplicacion de multi_clas = multinomial(funcion softmax)\n",
    " - aplicando un solver = saga para la optimizacion de multiclase usando funcion de average gradient"
   ]
  },
  {
   "cell_type": "code",
   "execution_count": 33,
   "id": "228e79ac",
   "metadata": {},
   "outputs": [
    {
     "name": "stderr",
     "output_type": "stream",
     "text": [
      "c:\\Users\\crhac\\Desktop\\proyecto-i-aprendizaje-maquina\\env\\Lib\\site-packages\\sklearn\\linear_model\\_logistic.py:1247: FutureWarning: 'multi_class' was deprecated in version 1.5 and will be removed in 1.7. From then on, it will always use 'multinomial'. Leave it to its default value to avoid this warning.\n",
      "  warnings.warn(\n",
      "c:\\Users\\crhac\\Desktop\\proyecto-i-aprendizaje-maquina\\env\\Lib\\site-packages\\sklearn\\linear_model\\_sag.py:348: ConvergenceWarning: The max_iter was reached which means the coef_ did not converge\n",
      "  warnings.warn(\n"
     ]
    }
   ],
   "source": [
    "lr = LogisticRegression(\n",
    "    multi_class='multinomial',\n",
    "    solver='saga',\n",
    "    C=1.0,\n",
    "    max_iter=1000\n",
    ")\n",
    "lr.fit(X_tr, y_tr)\n",
    "y_pred_lr = lr.predict(X_te)"
   ]
  },
  {
   "cell_type": "code",
   "execution_count": 34,
   "id": "93f6931d",
   "metadata": {},
   "outputs": [],
   "source": [
    "acc_lr = accuracy_score(y_te, y_pred_lr)\n",
    "f1_lr  = f1_score(y_te, y_pred_lr, average='macro')"
   ]
  },
  {
   "cell_type": "code",
   "execution_count": 35,
   "id": "7990eb3d",
   "metadata": {},
   "outputs": [
    {
     "name": "stdout",
     "output_type": "stream",
     "text": [
      "Baseline - Regresión Logística\n",
      "  Accuracy : 0.6320953048353188\n",
      "  F1-macro : 0.2855177930872932\n"
     ]
    }
   ],
   "source": [
    "print(\"Baseline - Regresión Logística\")\n",
    "print(\"  Accuracy :\", acc_lr)\n",
    "print(\"  F1-macro :\", f1_lr)"
   ]
  },
  {
   "cell_type": "markdown",
   "id": "30bf02cd",
   "metadata": {},
   "source": [
    "## Modelo avanzado de XGBOOST \n",
    "\n",
    "El modelo xgboost trabaja en base a los arboles de decesiones que va creando arboles secuencialmente usando la funcion de la gradiente es decir que cuando encuntra un error deriva esta y crea otro arbol en base a esa derivada \n"
   ]
  },
  {
   "cell_type": "code",
   "execution_count": 37,
   "id": "c32fff51",
   "metadata": {},
   "outputs": [],
   "source": [
    "import xgboost as xgb"
   ]
  },
  {
   "cell_type": "code",
   "execution_count": 38,
   "id": "09e168e7",
   "metadata": {},
   "outputs": [],
   "source": [
    "dtr = xgb.DMatrix(X_tr, label=y_tr)\n",
    "dte = xgb.DMatrix(X_te, label=y_te)"
   ]
  },
  {
   "cell_type": "code",
   "execution_count": 39,
   "id": "780d788e",
   "metadata": {},
   "outputs": [],
   "source": [
    "params = {\n",
    "  'objective':'multi:softprob', 'num_class':len(le.classes_),\n",
    "  'eval_metric':'mlogloss', 'eta':0.1, 'max_depth':6,\n",
    "  'subsample':0.8, 'colsample_bytree':0.8, 'seed':42\n",
    "}"
   ]
  },
  {
   "cell_type": "markdown",
   "id": "a09054c0",
   "metadata": {},
   "source": [
    "- usamos la api de bajo nivel de XGB ya que no hay un wrapper para sklearn"
   ]
  },
  {
   "cell_type": "code",
   "execution_count": 40,
   "id": "87eb671b",
   "metadata": {},
   "outputs": [],
   "source": [
    "bst = xgb.train(params, dtr, num_boost_round=200,\n",
    "                evals=[(dtr,'train'),(dte,'eval')],\n",
    "                early_stopping_rounds=10, verbose_eval=False)"
   ]
  },
  {
   "cell_type": "code",
   "execution_count": 41,
   "id": "64d542c0",
   "metadata": {},
   "outputs": [],
   "source": [
    "probs = bst.predict(dte)\n",
    "y_pred_xgb = probs.argmax(axis=1)"
   ]
  },
  {
   "cell_type": "code",
   "execution_count": 42,
   "id": "11dfd851",
   "metadata": {},
   "outputs": [
    {
     "name": "stdout",
     "output_type": "stream",
     "text": [
      "XGBoost – Accuracy : 0.6247\n",
      "XGBoost – F1-macro : 0.2921\n"
     ]
    }
   ],
   "source": [
    "acc_xgb = accuracy_score(y_te, y_pred_xgb)\n",
    "f1_xgb  = f1_score(y_te, y_pred_xgb, average='macro')\n",
    "\n",
    "print(f\"XGBoost – Accuracy : {acc_xgb:.4f}\")\n",
    "print(f\"XGBoost – F1-macro : {f1_xgb:.4f}\")"
   ]
  },
  {
   "cell_type": "code",
   "execution_count": 52,
   "id": "64486749",
   "metadata": {},
   "outputs": [
    {
     "data": {
      "text/html": [
       "<div>\n",
       "<style scoped>\n",
       "    .dataframe tbody tr th:only-of-type {\n",
       "        vertical-align: middle;\n",
       "    }\n",
       "\n",
       "    .dataframe tbody tr th {\n",
       "        vertical-align: top;\n",
       "    }\n",
       "\n",
       "    .dataframe thead th {\n",
       "        text-align: right;\n",
       "    }\n",
       "</style>\n",
       "<table border=\"1\" class=\"dataframe\">\n",
       "  <thead>\n",
       "    <tr style=\"text-align: right;\">\n",
       "      <th></th>\n",
       "      <th>Modelo</th>\n",
       "      <th>Accuracy</th>\n",
       "      <th>F1-macro</th>\n",
       "    </tr>\n",
       "  </thead>\n",
       "  <tbody>\n",
       "    <tr>\n",
       "      <th>0</th>\n",
       "      <td>Logística (baseline)</td>\n",
       "      <td>0.632095</td>\n",
       "      <td>0.285518</td>\n",
       "    </tr>\n",
       "    <tr>\n",
       "      <th>1</th>\n",
       "      <td>XGBoost Afinado</td>\n",
       "      <td>0.624737</td>\n",
       "      <td>0.292066</td>\n",
       "    </tr>\n",
       "  </tbody>\n",
       "</table>\n",
       "</div>"
      ],
      "text/plain": [
       "                 Modelo  Accuracy  F1-macro\n",
       "0  Logística (baseline)  0.632095  0.285518\n",
       "1       XGBoost Afinado  0.624737  0.292066"
      ]
     },
     "metadata": {},
     "output_type": "display_data"
    },
    {
     "data": {
      "image/png": "[encoded data removed]",
      "text/plain": [
       "<Figure size 640x480 with 1 Axes>"
      ]
     },
     "metadata": {},
     "output_type": "display_data"
    },
    {
     "data": {
      "image/png": "[encoded data removed]",
      "text/plain": [
       "<Figure size 640x480 with 1 Axes>"
      ]
     },
     "metadata": {},
     "output_type": "display_data"
    }
   ],
   "source": [
    "import pandas as pd, matplotlib.pyplot as plt\n",
    "\n",
    "df_res = pd.DataFrame({\n",
    "    'Modelo':   ['Logística (baseline)', 'XGBoost Afinado'],\n",
    "    'Accuracy': [acc_lr, acc_xgb],\n",
    "    'F1-macro': [f1_lr,  f1_xgb]\n",
    "})\n",
    "display(df_res)\n",
    "\n",
    "for metric in ['Accuracy','F1-macro']:\n",
    "    plt.figure()\n",
    "    plt.bar(df_res['Modelo'], df_res[metric], color=['gray','darkgreen'])\n",
    "    plt.title(f\"{metric} comparado\")\n",
    "    plt.ylabel(metric)\n",
    "    plt.show()\n"
   ]
  },
  {
   "cell_type": "markdown",
   "id": "239f9716",
   "metadata": {},
   "source": [
    "---"
   ]
  },
  {
   "cell_type": "markdown",
   "id": "13b01db9",
   "metadata": {},
   "source": [
    "# RNN MLP \n",
    "la intencion de agregar una neurona es ver la posibilidad que capten algo que los arboles no lo hicieron explotando mas las features"
   ]
  },
  {
   "cell_type": "code",
   "execution_count": 53,
   "id": "84e30ea4",
   "metadata": {},
   "outputs": [],
   "source": [
    "from tensorflow.keras.utils import to_categorical\n",
    "import tensorflow as tf\n",
    "from tensorflow.keras import Sequential\n",
    "from tensorflow.keras.layers import Dense, Dropout"
   ]
  },
  {
   "cell_type": "code",
   "execution_count": 54,
   "id": "bdb48b38",
   "metadata": {},
   "outputs": [],
   "source": [
    "X_tr_dense = X_tr.toarray()\n",
    "X_te_dense = X_te.toarray()"
   ]
  },
  {
   "cell_type": "code",
   "execution_count": 55,
   "id": "4b53e5ce",
   "metadata": {},
   "outputs": [],
   "source": [
    "\n",
    "num_classes = len(le.classes_)\n",
    "y_tr_ohe = to_categorical(y_tr, num_classes)\n",
    "y_te_ohe = to_categorical(y_te, num_classes)"
   ]
  },
  {
   "cell_type": "markdown",
   "id": "15b68e2a",
   "metadata": {},
   "source": [
    "- le hacemos la funcion on-hot encode a y "
   ]
  },
  {
   "cell_type": "code",
   "execution_count": 56,
   "id": "7ba44ec2",
   "metadata": {},
   "outputs": [
    {
     "name": "stderr",
     "output_type": "stream",
     "text": [
      "c:\\Users\\crhac\\Desktop\\proyecto-i-aprendizaje-maquina\\env\\Lib\\site-packages\\keras\\src\\layers\\core\\dense.py:87: UserWarning: Do not pass an `input_shape`/`input_dim` argument to a layer. When using Sequential models, prefer using an `Input(shape)` object as the first layer in the model instead.\n",
      "  super().__init__(activity_regularizer=activity_regularizer, **kwargs)\n"
     ]
    }
   ],
   "source": [
    "model = Sequential([\n",
    "    Dense(512, activation='relu', input_shape=(X_tr_dense.shape[1],)),\n",
    "    Dropout(0.3),\n",
    "    Dense(256, activation='relu'),\n",
    "    Dropout(0.3),\n",
    "    Dense(num_classes, activation='softmax')\n",
    "])\n"
   ]
  },
  {
   "cell_type": "markdown",
   "id": "9c78c82f",
   "metadata": {},
   "source": [
    "### le aplicamos un Entrenamiento con early stopping"
   ]
  },
  {
   "cell_type": "code",
   "execution_count": 57,
   "id": "907c343a",
   "metadata": {},
   "outputs": [],
   "source": [
    "model.compile(\n",
    "    optimizer='adam',\n",
    "    loss='categorical_crossentropy',\n",
    "    metrics=['accuracy']\n",
    ")"
   ]
  },
  {
   "cell_type": "code",
   "execution_count": 58,
   "id": "8b7ba29f",
   "metadata": {},
   "outputs": [],
   "source": [
    "es = tf.keras.callbacks.EarlyStopping(\n",
    "    monitor='val_loss', patience=3, restore_best_weights=True\n",
    ")"
   ]
  },
  {
   "cell_type": "code",
   "execution_count": 60,
   "id": "a0b4b5b9",
   "metadata": {},
   "outputs": [
    {
     "name": "stdout",
     "output_type": "stream",
     "text": [
      "Epoch 1/20\n",
      "321/321 - 3s - 9ms/step - accuracy: 0.7727 - loss: 0.7557 - val_accuracy: 0.6200 - val_loss: 1.7293\n",
      "Epoch 2/20\n",
      "321/321 - 3s - 9ms/step - accuracy: 0.7925 - loss: 0.6647 - val_accuracy: 0.6191 - val_loss: 1.7227\n",
      "Epoch 3/20\n",
      "321/321 - 3s - 9ms/step - accuracy: 0.8074 - loss: 0.6137 - val_accuracy: 0.6401 - val_loss: 1.7203\n",
      "Epoch 4/20\n",
      "321/321 - 3s - 9ms/step - accuracy: 0.8227 - loss: 0.5567 - val_accuracy: 0.6427 - val_loss: 1.7831\n",
      "Epoch 5/20\n",
      "321/321 - 3s - 8ms/step - accuracy: 0.8416 - loss: 0.5035 - val_accuracy: 0.6401 - val_loss: 1.8692\n",
      "Epoch 6/20\n",
      "321/321 - 2s - 7ms/step - accuracy: 0.8538 - loss: 0.4575 - val_accuracy: 0.6489 - val_loss: 1.8448\n"
     ]
    }
   ],
   "source": [
    "history = model.fit(\n",
    "    X_tr_dense, y_tr_ohe,\n",
    "    validation_split=0.1,\n",
    "    epochs=20,\n",
    "    batch_size=32,\n",
    "    callbacks=[es],\n",
    "    verbose=2\n",
    ")"
   ]
  },
  {
   "cell_type": "code",
   "execution_count": 61,
   "id": "26647125",
   "metadata": {},
   "outputs": [
    {
     "name": "stdout",
     "output_type": "stream",
     "text": [
      "\u001b[1m90/90\u001b[0m \u001b[32m━━━━━━━━━━━━━━━━━━━━\u001b[0m\u001b[37m\u001b[0m \u001b[1m0s\u001b[0m 2ms/step\n"
     ]
    }
   ],
   "source": [
    "loss, acc = model.evaluate(X_te_dense, y_te_ohe, verbose=0)\n",
    "y_pred_nn = model.predict(X_te_dense).argmax(axis=1)"
   ]
  },
  {
   "cell_type": "code",
   "execution_count": 62,
   "id": "0955181a",
   "metadata": {},
   "outputs": [
    {
     "name": "stdout",
     "output_type": "stream",
     "text": [
      "NN – Accuracy: 0.6650, F1-macro: 0.3206\n"
     ]
    }
   ],
   "source": [
    "from sklearn.metrics import f1_score\n",
    "f1_nn = f1_score(y_te, y_pred_nn, average='macro')\n",
    "print(f\"NN – Accuracy: {acc:.4f}, F1-macro: {f1_nn:.4f}\")"
   ]
  },
  {
   "cell_type": "markdown",
   "id": "cbd46df7",
   "metadata": {},
   "source": [
    "---\n"
   ]
  },
  {
   "cell_type": "markdown",
   "id": "6858dd2d",
   "metadata": {},
   "source": [
    "## Evaluacion Final"
   ]
  },
  {
   "cell_type": "code",
   "execution_count": 63,
   "id": "ef13767f",
   "metadata": {},
   "outputs": [],
   "source": [
    "import pandas as pd, matplotlib.pyplot as plt"
   ]
  },
  {
   "cell_type": "code",
   "execution_count": null,
   "id": "d8de6f0a",
   "metadata": {},
   "outputs": [
    {
     "data": {
      "text/html": [
       "<div>\n",
       "<style scoped>\n",
       "    .dataframe tbody tr th:only-of-type {\n",
       "        vertical-align: middle;\n",
       "    }\n",
       "\n",
       "    .dataframe tbody tr th {\n",
       "        vertical-align: top;\n",
       "    }\n",
       "\n",
       "    .dataframe thead th {\n",
       "        text-align: right;\n",
       "    }\n",
       "</style>\n",
       "<table border=\"1\" class=\"dataframe\">\n",
       "  <thead>\n",
       "    <tr style=\"text-align: right;\">\n",
       "      <th></th>\n",
       "      <th>Modelo</th>\n",
       "      <th>Accuracy</th>\n",
       "      <th>F1-macro</th>\n",
       "    </tr>\n",
       "  </thead>\n",
       "  <tbody>\n",
       "    <tr>\n",
       "      <th>0</th>\n",
       "      <td>Logística</td>\n",
       "      <td>0.632095</td>\n",
       "      <td>0.285518</td>\n",
       "    </tr>\n",
       "    <tr>\n",
       "      <th>1</th>\n",
       "      <td>XGBoost Afinado</td>\n",
       "      <td>0.624737</td>\n",
       "      <td>0.292066</td>\n",
       "    </tr>\n",
       "    <tr>\n",
       "      <th>2</th>\n",
       "      <td>MLP Keras</td>\n",
       "      <td>0.665032</td>\n",
       "      <td>0.320578</td>\n",
       "    </tr>\n",
       "  </tbody>\n",
       "</table>\n",
       "</div>"
      ],
      "text/plain": [
       "            Modelo  Accuracy  F1-macro\n",
       "0        Logística  0.632095  0.285518\n",
       "1  XGBoost Afinado  0.624737  0.292066\n",
       "2        MLP Keras  0.665032  0.320578"
      ]
     },
     "metadata": {},
     "output_type": "display_data"
    }
   ],
   "source": [
    "df_cmp = pd.DataFrame({\n",
    "    'Modelo':   ['Logística','XGBoost','MLP Keras'],\n",
    "    'Accuracy': [acc_lr, acc_xgb, acc],\n",
    "    'F1-macro': [f1_lr,  f1_xgb, f1_nn]\n",
    "})\n",
    "display(df_cmp)"
   ]
  },
  {
   "cell_type": "code",
   "execution_count": 65,
   "id": "bae7c1a1",
   "metadata": {},
   "outputs": [
    {
     "data": {
      "image/png": "[encoded data removed]",
      "text/plain": [
       "<Figure size 640x480 with 1 Axes>"
      ]
     },
     "metadata": {},
     "output_type": "display_data"
    },
    {
     "data": {
      "image/png": "[encoded data removed]",
      "text/plain": [
       "<Figure size 640x480 with 1 Axes>"
      ]
     },
     "metadata": {},
     "output_type": "display_data"
    }
   ],
   "source": [
    "for m in ['Accuracy','F1-macro']:\n",
    "    plt.figure(); plt.bar(df_cmp['Modelo'], df_cmp[m], color=['gray','green','orange'])\n",
    "    plt.title(m + \" comparado\"); plt.ylabel(m); plt.show()"
   ]
  },
  {
   "cell_type": "markdown",
   "id": "097dfc47",
   "metadata": {},
   "source": [
    "### Conclusión\n",
    "   - Regresión logística (modelo lineal) Accuracy  0.63, F1-macro 0.29.\n",
    "\n",
    "   - XGBoost afinado mejora ligeramente el F1-macro 0.292 pero, con el espacio de parámetros usado, no logra aprovechar la extra capacidad de los árboles para este problema esparso.\n",
    "\n",
    "   - MLP Keras alcanza Accuracy  0.665 y F1-macro  0.321, una mejora notable en F1-macro (+0.036) frente al baseline, demostrando que las redes pueden explotar mejor las interacciones de tus features textuales."
   ]
  },
  {
   "cell_type": "markdown",
   "id": "f61207b4",
   "metadata": {},
   "source": [
    "### Mejoras\n",
    "\n",
    "   - Datos muy esparsos y de alta dimensionalidad\n",
    "   - En estos espacios tan dispersos, los árboles de decisión (incluso en boosting) a veces tienen dificultades para encontrar divisiones que sirvan para tantas clases, y tienden a repartirse el voto entre las grandes sin mejorar mucho las minoritarias.\n",
    "\n",
    "   - Hyper-tuning insuficiente para XGBoost\n",
    "\n",
    "   - Aunque hicimos un RandomizedSearchCV, el espacio de búsqueda fue pequeño (max_depth ≤ 6, n_estimators ≤ 200) y el CV=2–3 folds, por rapidez.\n",
    "\n",
    "   - Es posible que XGBoost necesite más rounds o profundidades mayores (con la correspondiente regularización) para modelar bien el long tail de clases.\n",
    "\n",
    "Capacidad de la red neuronal para interacciones de alto orden\n",
    "El MLP puede aprender combinaciones no lineales muy complejas de los TF-IDF de códigos.\n",
    "Gracias a sus capas densas y a la función softmax, ajustó mejor la asignación de probabilidad entre clases, capturando patrones que los árboles no “vieron”.\n",
    "Regularización y early stopping\n",
    "En MLP usamos Dropout y EarlyStopping, lo que ayudó a no sobreajustar."
   ]
  }
 ],
 "metadata": {
  "kernelspec": {
   "display_name": "env",
   "language": "python",
   "name": "python3"
  },
  "language_info": {
   "codemirror_mode": {
    "name": "ipython",
    "version": 3
   },
   "file_extension": ".py",
   "mimetype": "text/x-python",
   "name": "python",
   "nbconvert_exporter": "python",
   "pygments_lexer": "ipython3",
   "version": "3.12.10"
  }
 },
 "nbformat": 4,
 "nbformat_minor": 5
}
