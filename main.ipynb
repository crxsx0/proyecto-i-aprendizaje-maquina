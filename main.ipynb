{
 "cells": [
  {
   "cell_type": "markdown",
   "id": "3046a82c",
   "metadata": {},
   "source": [
    "# Proyecto I - Aprendizaje Máquina\n",
    "\n",
    "## Integrantes:\n",
    "- **Cristobal Hachim**\n",
    "- **Ignacio Duarte**\n",
    "- **Cristopher Arredondo**\n",
    "- **Alvaro Brizuela**\n",
    "- **Felipe Moscoso**"
   ]
  },
  {
   "cell_type": "markdown",
   "id": "0424af75",
   "metadata": {},
   "source": [
    "## Introducción\n",
    "Los Sistemas de Grupos Relacionados por el Diagnóstico (GRD) constituyen un método estandarizado para agrupar estancias hospitalarias en categorías clínicas homogéneas, cuyo objetivo es reflejar la complejidad del paciente y el consumo de recursos asociados. Tradicionalmente, la asignación de un GRD se realiza al alta mediante reglas fijas basadas en el diagnóstico principal, las comorbilidades, los procedimientos realizados, la edad y el sexo, lo que limita su capacidad de adaptación a nuevas prácticas clínicas o combinaciones atípicas de diagnósticos. Predecir de forma temprana el GRD —incluso al ingreso o durante las primeras horas de hospitalización— permitiría a los hospitales anticipar necesidades de camas, personal y suministros, optimizar la planificación presupuestaria y detectar posibles errores de codificación antes de la facturación. Sin embargo, esta tarea plantea un desafío de clasificación multiclase de alta dimensionalidad, dado el enorme número de códigos ICD‑9/ICD‑10 y procedimientos, así como las complejas interacciones entre comorbilidades y tratamientos.\n",
    "\n",
    "---\n",
    "\n",
    "**Posible Cambio**\n",
    "\n",
    "---\n",
    "Por ello, en este proyecto exploraremos desde técnicas clásicas (regresión logística, árboles de decisión) hasta métodos avanzados de aprendizaje automático (Random Forest, XGBoost, redes neuronales recurrentes y basadas en atención), con el fin de diseñar un sistema preciso, escalable y lo suficientemente interpretable para apoyar la toma de decisiones clínicas y administrativas.\n",
    "\n",
    "---"
   ]
  },
  {
   "cell_type": "markdown",
   "id": "a480b8a1",
   "metadata": {},
   "source": [
    "## Limpieza del CSV"
   ]
  },
  {
   "cell_type": "code",
   "execution_count": 314,
   "id": "5cc75931",
   "metadata": {},
   "outputs": [],
   "source": [
    "import pandas as pd"
   ]
  },
  {
   "cell_type": "code",
   "execution_count": 315,
   "id": "3bb69e5e",
   "metadata": {},
   "outputs": [],
   "source": [
    "corpus=[]\n",
    "target=[]\n",
    "edad=[]\n",
    "sexo=[]\n",
    "severidad=[]\n",
    "archivo=open(\"data/dataset_elpino.csv\",encoding=\"utf-8\")\n",
    "header=archivo.readline().strip().split(\";\")\n",
    "features=[]\n",
    "for col in header:\n",
    "    col=col.split(\"-\")[0].strip()\n",
    "    if col.startswith(\"Diag\") or col.startswith(\"Proc\"):\n",
    "        col=col.split(\" \")\n",
    "        col=col[0]+col[1]\n",
    "    features.append(col)\n",
    "for linea in archivo:\n",
    "    row=[]\n",
    "    linea=linea.strip().split(\";\")\n",
    "    for i in range(len(linea)):\n",
    "        col=linea[i].split(\"-\")[0].strip()\n",
    "        if i==67:\n",
    "            grd=col\n",
    "            target.append(grd)\n",
    "        elif i==66:\n",
    "            sexo.append(1 if col==\"Mujer\" else 0)\n",
    "        elif i==65:\n",
    "            edad.append(int(col))\n",
    "        else:\n",
    "            row.append(col)\n",
    "    corpus.append(row)"
   ]
  },
  {
   "cell_type": "code",
   "execution_count": 316,
   "id": "baae6dc6",
   "metadata": {},
   "outputs": [],
   "source": [
    "df=pd.DataFrame(corpus,columns=features[:-3])\n",
    "df[\"GRD\"]=target"
   ]
  },
  {
   "cell_type": "code",
   "execution_count": 317,
   "id": "bdd730cd",
   "metadata": {},
   "outputs": [],
   "source": [
    "df.to_csv(\"output/dataset-el-pino-clean.csv\",index=False,encoding=\"utf-8\")"
   ]
  },
  {
   "cell_type": "markdown",
   "id": "091c92e0",
   "metadata": {},
   "source": [
    "## Analisis exploratorio de datos(EDA)"
   ]
  },
  {
   "cell_type": "markdown",
   "id": "5f997d42",
   "metadata": {},
   "source": [
    "### Limpieza de Datos"
   ]
  },
  {
   "cell_type": "markdown",
   "id": "3f36bd10",
   "metadata": {},
   "source": [
    "Cargamos el dataset una vez limpio el CSV"
   ]
  },
  {
   "cell_type": "code",
   "execution_count": 318,
   "id": "45406326",
   "metadata": {},
   "outputs": [],
   "source": [
    "df_clean = pd.read_csv(\"output/dataset-el-pino-clean.csv\")"
   ]
  },
  {
   "cell_type": "markdown",
   "id": "47973d70",
   "metadata": {},
   "source": [
    "Obtendremos la información de los datos, para ver si hay algún dato nulo o algún dato que no esté en el formato correcto."
   ]
  },
  {
   "cell_type": "code",
   "execution_count": 319,
   "id": "52049756",
   "metadata": {},
   "outputs": [
    {
     "name": "stdout",
     "output_type": "stream",
     "text": [
      "<class 'pandas.core.frame.DataFrame'>\n",
      "RangeIndex: 14561 entries, 0 to 14560\n",
      "Data columns (total 66 columns):\n",
      " #   Column    Non-Null Count  Dtype  \n",
      "---  ------    --------------  -----  \n",
      " 0   Diag01    14561 non-null  object \n",
      " 1   Diag02    13352 non-null  object \n",
      " 2   Diag03    11874 non-null  object \n",
      " 3   Diag04    10434 non-null  object \n",
      " 4   Diag05    9190 non-null   object \n",
      " 5   Diag06    8167 non-null   object \n",
      " 6   Diag07    7153 non-null   object \n",
      " 7   Diag08    5977 non-null   object \n",
      " 8   Diag09    4842 non-null   object \n",
      " 9   Diag10    3865 non-null   object \n",
      " 10  Diag11    2987 non-null   object \n",
      " 11  Diag12    2323 non-null   object \n",
      " 12  Diag13    1800 non-null   object \n",
      " 13  Diag14    1431 non-null   object \n",
      " 14  Diag15    1138 non-null   object \n",
      " 15  Diag16    923 non-null    object \n",
      " 16  Diag17    759 non-null    object \n",
      " 17  Diag18    623 non-null    object \n",
      " 18  Diag19    515 non-null    object \n",
      " 19  Diag20    429 non-null    object \n",
      " 20  Diag21    353 non-null    object \n",
      " 21  Diag22    304 non-null    object \n",
      " 22  Diag23    253 non-null    object \n",
      " 23  Diag24    215 non-null    object \n",
      " 24  Diag25    194 non-null    object \n",
      " 25  Diag26    154 non-null    object \n",
      " 26  Diag27    130 non-null    object \n",
      " 27  Diag28    110 non-null    object \n",
      " 28  Diag29    93 non-null     object \n",
      " 29  Diag30    76 non-null     object \n",
      " 30  Diag31    67 non-null     object \n",
      " 31  Diag32    57 non-null     object \n",
      " 32  Diag33    43 non-null     object \n",
      " 33  Diag34    40 non-null     object \n",
      " 34  Diag35    28 non-null     object \n",
      " 35  Proced01  14561 non-null  float64\n",
      " 36  Proced02  14427 non-null  float64\n",
      " 37  Proced03  14219 non-null  float64\n",
      " 38  Proced04  13956 non-null  float64\n",
      " 39  Proced05  13599 non-null  float64\n",
      " 40  Proced06  13081 non-null  float64\n",
      " 41  Proced07  12426 non-null  float64\n",
      " 42  Proced08  11549 non-null  float64\n",
      " 43  Proced09  10624 non-null  float64\n",
      " 44  Proced10  9579 non-null   float64\n",
      " 45  Proced11  8470 non-null   float64\n",
      " 46  Proced12  7220 non-null   float64\n",
      " 47  Proced13  6115 non-null   float64\n",
      " 48  Proced14  5202 non-null   float64\n",
      " 49  Proced15  4450 non-null   float64\n",
      " 50  Proced16  3894 non-null   float64\n",
      " 51  Proced17  3485 non-null   float64\n",
      " 52  Proced18  3170 non-null   float64\n",
      " 53  Proced19  2894 non-null   float64\n",
      " 54  Proced20  2648 non-null   float64\n",
      " 55  Proced21  2441 non-null   float64\n",
      " 56  Proced22  2240 non-null   float64\n",
      " 57  Proced23  2065 non-null   float64\n",
      " 58  Proced24  1895 non-null   float64\n",
      " 59  Proced25  1710 non-null   float64\n",
      " 60  Proced26  1572 non-null   float64\n",
      " 61  Proced27  1423 non-null   float64\n",
      " 62  Proced28  1300 non-null   float64\n",
      " 63  Proced29  1182 non-null   float64\n",
      " 64  Proced30  1063 non-null   float64\n",
      " 65  GRD       14561 non-null  int64  \n",
      "dtypes: float64(30), int64(1), object(35)\n",
      "memory usage: 7.3+ MB\n"
     ]
    }
   ],
   "source": [
    "df_clean.info()"
   ]
  },
  {
   "cell_type": "code",
   "execution_count": 320,
   "id": "2df3a4f3",
   "metadata": {},
   "outputs": [
    {
     "data": {
      "text/plain": [
       "Diag01          0\n",
       "Diag02       1209\n",
       "Diag03       2687\n",
       "Diag04       4127\n",
       "Diag05       5371\n",
       "            ...  \n",
       "Proced27    13138\n",
       "Proced28    13261\n",
       "Proced29    13379\n",
       "Proced30    13498\n",
       "GRD             0\n",
       "Length: 66, dtype: int64"
      ]
     },
     "execution_count": 320,
     "metadata": {},
     "output_type": "execute_result"
    }
   ],
   "source": [
    "df_clean.isna().sum()"
   ]
  },
  {
   "cell_type": "markdown",
   "id": "3e9accd8",
   "metadata": {},
   "source": [
    "Como podemos observar el dataset contiene 14561 filas y 67 columnas, además de que existen muchos datos nulos, por lo que debemos limpiarlo."
   ]
  },
  {
   "cell_type": "markdown",
   "id": "0b5f8e5b",
   "metadata": {},
   "source": [
    "### Distribución de las clases"
   ]
  },
  {
   "cell_type": "code",
   "execution_count": 321,
   "id": "cbfbee84",
   "metadata": {},
   "outputs": [
    {
     "data": {
      "text/plain": [
       "GRD\n",
       "146101    813\n",
       "146121    639\n",
       "146131    538\n",
       "158171    389\n",
       "134161    325\n",
       "         ... \n",
       "201103      1\n",
       "91403       1\n",
       "84201       1\n",
       "204103      1\n",
       "84173       1\n",
       "Name: count, Length: 526, dtype: int64"
      ]
     },
     "execution_count": 321,
     "metadata": {},
     "output_type": "execute_result"
    }
   ],
   "source": [
    "df_clean['GRD'].value_counts()"
   ]
  },
  {
   "cell_type": "markdown",
   "id": "3922638e",
   "metadata": {},
   "source": [
    "Tenemos 526 clases, lo que hace que el problema sea un problema de clasificación multiclase"
   ]
  },
  {
   "cell_type": "code",
   "execution_count": 322,
   "id": "4d398961",
   "metadata": {},
   "outputs": [],
   "source": [
    "import seaborn as sns\n",
    "import matplotlib.pyplot as plt"
   ]
  },
  {
   "cell_type": "code",
   "execution_count": 323,
   "id": "66f1adec",
   "metadata": {},
   "outputs": [
    {
     "data": {
      "image/png": "[encoded data removed]",
      "text/plain": [
       "<Figure size 1200x600 with 1 Axes>"
      ]
     },
     "metadata": {},
     "output_type": "display_data"
    }
   ],
   "source": [
    "top_n = 20\n",
    "top_grds = df_clean['GRD'].value_counts().nlargest(top_n)\n",
    "\n",
    "plt.figure(figsize=(12, 6))\n",
    "sns.barplot(x=top_grds.index, y=top_grds.values, hue=top_grds.index, dodge=False)\n",
    "plt.title(f\"Top {top_n} Clases GRD Más Frecuentes\")\n",
    "plt.xlabel(\"GRD\")\n",
    "plt.ylabel(\"Frecuencia\")\n",
    "plt.xticks(rotation=45)\n",
    "plt.tight_layout()\n",
    "plt.show()"
   ]
  },
  {
   "cell_type": "markdown",
   "id": "a1ccce79",
   "metadata": {},
   "source": [
    "A continuación, se muestra la distribución de las 20 clases más frecuentes, donde podemos observar que las clases 146101, 146121, 146131 son las más frecuentes, esto nos confirma que existe un fuerte desbalanceo en los datos, por lo que debemos tener cuidado al momento de entrenar el modelo, ya que puede que el modelo se sobreentrene en las clases más frecuentes y no generalice bien a las clases menos frecuentes."
   ]
  },
  {
   "cell_type": "markdown",
   "id": "17cc3283",
   "metadata": {},
   "source": [
    "Vamos a extraer las columnas de diagnóstico y procedimiento, para realizar el analisis de las columnas."
   ]
  },
  {
   "cell_type": "code",
   "execution_count": 324,
   "id": "9d3bfcc8",
   "metadata": {},
   "outputs": [
    {
     "name": "stdout",
     "output_type": "stream",
     "text": [
      "Diagnósticos: ['Diag01', 'Diag02', 'Diag03', 'Diag04', 'Diag05', 'Diag06', 'Diag07', 'Diag08', 'Diag09', 'Diag10', 'Diag11', 'Diag12', 'Diag13', 'Diag14', 'Diag15', 'Diag16', 'Diag17', 'Diag18', 'Diag19', 'Diag20', 'Diag21', 'Diag22', 'Diag23', 'Diag24', 'Diag25', 'Diag26', 'Diag27', 'Diag28', 'Diag29', 'Diag30', 'Diag31', 'Diag32', 'Diag33', 'Diag34', 'Diag35']\n",
      "Procedimientos: ['Proced01', 'Proced02', 'Proced03', 'Proced04', 'Proced05', 'Proced06', 'Proced07', 'Proced08', 'Proced09', 'Proced10', 'Proced11', 'Proced12', 'Proced13', 'Proced14', 'Proced15', 'Proced16', 'Proced17', 'Proced18', 'Proced19', 'Proced20', 'Proced21', 'Proced22', 'Proced23', 'Proced24', 'Proced25', 'Proced26', 'Proced27', 'Proced28', 'Proced29', 'Proced30']\n"
     ]
    }
   ],
   "source": [
    "diagnosticos_cols = [col for col in df_clean.columns if \"Diag\" in col]\n",
    "procedimientos_cols = [col for col in df_clean.columns if \"Proced\" in col]\n",
    "print(\"Diagnósticos:\", diagnosticos_cols)\n",
    "print(\"Procedimientos:\", procedimientos_cols)\n"
   ]
  },
  {
   "cell_type": "code",
   "execution_count": 325,
   "id": "c6f342a5",
   "metadata": {},
   "outputs": [
    {
     "data": {
      "text/plain": [
       "Diag01          0\n",
       "Diag02       1209\n",
       "Diag03       2687\n",
       "Diag04       4127\n",
       "Diag05       5371\n",
       "            ...  \n",
       "Proced26    12989\n",
       "Proced27    13138\n",
       "Proced28    13261\n",
       "Proced29    13379\n",
       "Proced30    13498\n",
       "Length: 65, dtype: int64"
      ]
     },
     "execution_count": 325,
     "metadata": {},
     "output_type": "execute_result"
    }
   ],
   "source": [
    "df_nulls = df_clean[diagnosticos_cols + procedimientos_cols].isna().sum()\n",
    "df_clean[diagnosticos_cols + procedimientos_cols].isna().sum()"
   ]
  },
  {
   "cell_type": "markdown",
   "id": "74765602",
   "metadata": {},
   "source": [
    "Segun el analisis que hicimos sobre `df_nulls` concluimos que todas las columnas excepto `Diag01` y `Proc01` tienen datos nulos, los valores nulos aumentan progresivamente a medida que avanzamos en las columnas, por lo que decidimos rellenar los valores nulos con `SIN_CODIGO` para preservar esta ausencia de datos, ya que es importante para el modelo, ya que si no lo hacemos el modelo no podrá aprender de estos datos y no podrá generalizar bien a los datos de prueba."
   ]
  },
  {
   "cell_type": "markdown",
   "id": "16d2420e",
   "metadata": {},
   "source": [
    "Se concluye que los "
   ]
  },
  {
   "cell_type": "code",
   "execution_count": 326,
   "id": "2bcbc974",
   "metadata": {},
   "outputs": [
    {
     "data": {
      "image/png": "[encoded data removed]",
      "text/plain": [
       "<Figure size 1000x600 with 1 Axes>"
      ]
     },
     "metadata": {},
     "output_type": "display_data"
    }
   ],
   "source": [
    "from collections import Counter\n",
    "\n",
    "all_diags = df_clean[diagnosticos_cols].values.ravel()\n",
    "diag_counts = Counter(all_diags[~pd.isna(all_diags)])\n",
    "\n",
    "top_10_diags = diag_counts.most_common(10)\n",
    "labels, values = zip(*top_10_diags)\n",
    "\n",
    "plt.figure(figsize=(10, 6))\n",
    "sns.barplot(x=list(labels), y=list(values), hue=labels, dodge=False)\n",
    "plt.title(\"Top 10 Diagnósticos Más Frecuentes\")\n",
    "plt.xlabel(\"Diagnósticos\")\n",
    "plt.ylabel(\"Frecuencia\")\n",
    "plt.xticks(rotation=45)\n",
    "plt.tight_layout()\n",
    "plt.show()\n"
   ]
  },
  {
   "cell_type": "markdown",
   "id": "623b90a9",
   "metadata": {},
   "source": [
    "Como se observa, hay una alta concentracion en diagnosticos comunes ya que sumando los 10 mas frecuentes cubren aproximadamente 50% - 60% de los datos, por lo que es importante tener en cuenta esto al momento de entrenar el modelo, ya que puede que el modelo se sobreentrene en los diagnósticos más frecuentes y no generalice bien a los diagnósticos menos frecuentes."
   ]
  },
  {
   "cell_type": "code",
   "execution_count": 327,
   "id": "6316ec12",
   "metadata": {},
   "outputs": [
    {
     "data": {
      "image/png": "[encoded data removed]",
      "text/plain": [
       "<Figure size 1000x600 with 1 Axes>"
      ]
     },
     "metadata": {},
     "output_type": "display_data"
    }
   ],
   "source": [
    "all_procs = df_clean[procedimientos_cols].values.ravel()\n",
    "proc_counts = Counter(all_procs[~pd.isna(all_procs)])\n",
    "\n",
    "labels, values = zip(*proc_counts.most_common(10))\n",
    "\n",
    "plt.figure(figsize=(10, 6))\n",
    "sns.barplot(x=list(labels), y=list(values), hue=labels, dodge=False)\n",
    "plt.title(\"Top 10 Procedimientos Más Frecuentes\")\n",
    "plt.xlabel(\"Procedimientos\")\n",
    "plt.ylabel(\"Frecuencia\")\n",
    "plt.xticks(rotation=45)\n",
    "plt.tight_layout()\n",
    "plt.show()\n"
   ]
  },
  {
   "cell_type": "markdown",
   "id": "0922082a",
   "metadata": {},
   "source": [
    "Lo que podemos concluir de este grafico es que los procedimientos mas frecuentes son comunes a muchas condiciones clinicas, por lo que no es tan importante para encontrar patrones en los datos, ya que no son tan especificos como los diagnosticos, por lo que podemos dejarlos como estan y no hacer un analisis mas profundo de ellos."
   ]
  },
  {
   "cell_type": "code",
   "execution_count": 328,
   "id": "dba86c58",
   "metadata": {},
   "outputs": [
    {
     "data": {
      "text/plain": [
       "np.int64(295)"
      ]
     },
     "execution_count": 328,
     "metadata": {},
     "output_type": "execute_result"
    }
   ],
   "source": [
    "df_clean.duplicated().sum()"
   ]
  },
  {
   "cell_type": "markdown",
   "id": "a288ac9e",
   "metadata": {},
   "source": [
    "Detectamos 295 filas duplicadas exactas en el dataset de 14,561 pacientes. Por lo que eliminamos las filas duplicadas en la proxima etapa que es la limpieza de datos."
   ]
  },
  {
   "cell_type": "markdown",
   "id": "80cb8e7d",
   "metadata": {},
   "source": [
    "### Limpieza de datos"
   ]
  },
  {
   "cell_type": "markdown",
   "id": "00c94cd0",
   "metadata": {},
   "source": [
    "Aca rellenaremos los numeros nulos con `SIN_CODIGO`"
   ]
  },
  {
   "cell_type": "code",
   "execution_count": 329,
   "id": "3941b899",
   "metadata": {},
   "outputs": [],
   "source": [
    "df_clean[diagnosticos_cols + procedimientos_cols] = df_clean[diagnosticos_cols + procedimientos_cols].fillna(\"SIN_CODIGO\")"
   ]
  },
  {
   "cell_type": "markdown",
   "id": "e3905b12",
   "metadata": {},
   "source": [
    "Tambien eliminamos las filas duplicadas, ya que no aportan nada al modelo y pueden afectar el rendimiento del mismo."
   ]
  },
  {
   "cell_type": "code",
   "execution_count": 330,
   "id": "9f36bd57",
   "metadata": {},
   "outputs": [],
   "source": [
    "df_clean = df_clean.drop_duplicates()"
   ]
  },
  {
   "cell_type": "code",
   "execution_count": 331,
   "id": "f5368675",
   "metadata": {},
   "outputs": [
    {
     "name": "stdout",
     "output_type": "stream",
     "text": [
      "<class 'pandas.core.frame.DataFrame'>\n",
      "Index: 14266 entries, 0 to 14560\n",
      "Data columns (total 2 columns):\n",
      " #   Column     Non-Null Count  Dtype \n",
      "---  ------     --------------  ----- \n",
      " 0   ALL_DIAGS  14266 non-null  object\n",
      " 1   ALL_PROCS  14266 non-null  object\n",
      "dtypes: object(2)\n",
      "memory usage: 334.4+ KB\n"
     ]
    }
   ],
   "source": [
    "df_cleaned = pd.DataFrame()\n",
    "\n",
    "df_cleaned['ALL_DIAGS'] = df_clean[diagnosticos_cols].apply(lambda row: ' '.join(row.astype(str)), axis=1)\n",
    "df_cleaned['ALL_PROCS'] = df_clean[procedimientos_cols].apply(lambda row: ' '.join(row.astype(str)), axis=1)\n",
    "\n",
    "df_cleaned.info()"
   ]
  },
  {
   "cell_type": "markdown",
   "id": "01b0383f",
   "metadata": {},
   "source": [
    "En este caso agrupamos los diagnósticos y procedimientos en una sola columna, para poder trabajar con ellos de una manera más sencilla, ya que al ser un problema de clasificación multiclase, es más fácil trabajar con una sola columna que con varias columnas. Ademas de que esta manera de trabajar es compatible con los modelos de aprendizaje automático que vamos a utilizar, ya que algunos de ellos no soportan trabajar con varias columnas de salida."
   ]
  },
  {
   "cell_type": "code",
   "execution_count": 332,
   "id": "a3dae8db",
   "metadata": {},
   "outputs": [],
   "source": [
    "from sklearn.feature_extraction.text import CountVectorizer\n",
    "\n",
    "vectorizer_diag = CountVectorizer()\n",
    "X_diags = vectorizer_diag.fit_transform(df_cleaned['ALL_DIAGS'])\n",
    "\n",
    "vectorizer_proc = CountVectorizer()\n",
    "X_procs = vectorizer_proc.fit_transform(df_cleaned['ALL_PROCS'])"
   ]
  },
  {
   "cell_type": "markdown",
   "id": "6d88847b",
   "metadata": {},
   "source": [
    "Utilizamos `CountVectorizer` para transformar los datos de texto en vectores de números, para poder trabajar con ellos de una manera más sencilla y poder entrenar los modelos de aprendizaje automático."
   ]
  },
  {
   "cell_type": "markdown",
   "id": "0ff8ddde",
   "metadata": {},
   "source": [
    "## Definicion de variable objetivo y variables de entrada"
   ]
  },
  {
   "cell_type": "code",
   "execution_count": 334,
   "id": "9ceb41e4",
   "metadata": {},
   "outputs": [],
   "source": [
    "from scipy.sparse import hstack\n",
    "X_total = hstack([X_diags, X_procs])\n",
    "y = df_clean['GRD']\n"
   ]
  }
 ],
 "metadata": {
  "kernelspec": {
   "display_name": "env",
   "language": "python",
   "name": "python3"
  },
  "language_info": {
   "codemirror_mode": {
    "name": "ipython",
    "version": 3
   },
   "file_extension": ".py",
   "mimetype": "text/x-python",
   "name": "python",
   "nbconvert_exporter": "python",
   "pygments_lexer": "ipython3",
   "version": "3.12.10"
  }
 },
 "nbformat": 4,
 "nbformat_minor": 5
}
