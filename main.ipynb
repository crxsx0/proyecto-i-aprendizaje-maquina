{
 "cells": [
  {
   "cell_type": "markdown",
   "id": "3046a82c",
   "metadata": {},
   "source": [
    "# Proyecto I - Aprendizaje Máquina\n",
    "\n",
    "## Integrantes:\n",
    "- **Cristobal Hachim**\n",
    "- **Ignacio Duarte**\n",
    "- **Cristopher Arredondo**"
   ]
  },
  {
   "cell_type": "markdown",
   "id": "0424af75",
   "metadata": {},
   "source": [
    "## Introducción\n"
   ]
  }
 ],
 "metadata": {
  "language_info": {
   "name": "python"
  }
 },
 "nbformat": 4,
 "nbformat_minor": 5
}
